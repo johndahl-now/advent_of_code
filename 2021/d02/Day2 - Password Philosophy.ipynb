{
 "cells": [
  {
   "cell_type": "code",
   "execution_count": 1,
   "metadata": {},
   "outputs": [],
   "source": [
    "import re"
   ]
  },
  {
   "cell_type": "code",
   "execution_count": 2,
   "metadata": {},
   "outputs": [],
   "source": [
    "# Get Input Data\n",
    "with open('input.txt', 'r') as fh:\n",
    "    data = fh.readlines()\n",
    "data = ''.join(data).replace(':','').split('\\n')"
   ]
  },
  {
   "cell_type": "code",
   "execution_count": 3,
   "metadata": {},
   "outputs": [],
   "source": [
    "valid_password_count_1 = 0\n",
    "valid_password_count_2 = 0\n",
    "for entry in data:\n",
    "    minmax, letter, pwd = entry.split(' ')\n",
    "    low, high = minmax.split('-')\n",
    "\n",
    "    # Part 1\n",
    "    low = int(low)\n",
    "    high = int(high)\n",
    "    letters = re.findall(letter, pwd)\n",
    "    if len(letters) >= low and len(letters) <= high:\n",
    "        valid_password_count_1 += 1\n",
    "\n",
    "    # Part 2\n",
    "    first = pwd[low-1]\n",
    "    second = pwd[high-1]\n",
    "    if (first == letter or second == letter) and (first != second):\n",
    "        valid_password_count_2 += 1\n",
    "    \n",
    "assert valid_password_count_1 == 638\n",
    "assert valid_password_count_2 == 699"
   ]
  }
 ],
 "metadata": {
  "kernelspec": {
   "display_name": "Python 3",
   "language": "python",
   "name": "python3"
  },
  "language_info": {
   "codemirror_mode": {
    "name": "ipython",
    "version": 3
   },
   "file_extension": ".py",
   "mimetype": "text/x-python",
   "name": "python",
   "nbconvert_exporter": "python",
   "pygments_lexer": "ipython3",
   "version": "3.8.3"
  }
 },
 "nbformat": 4,
 "nbformat_minor": 4
}
