{
 "cells": [
  {
   "cell_type": "code",
   "execution_count": 1,
   "metadata": {},
   "outputs": [],
   "source": [
    "# Get and format the data\n",
    "with open('day1_input.txt', 'r') as fh:\n",
    "    data = fh.readlines()\n",
    "data = ''.join(data).split('\\n')\n",
    "\n",
    "# Convert strings to numbers\n",
    "for idx, row in enumerate(data):\n",
    "    data[idx] = int(row)"
   ]
  },
  {
   "cell_type": "code",
   "execution_count": 2,
   "metadata": {},
   "outputs": [
    {
     "name": "stdout",
     "output_type": "stream",
     "text": [
      "788 1232 970816\n"
     ]
    }
   ],
   "source": [
    "for i,vi in enumerate(data):\n",
    "    for j,vj in enumerate(data[i+1:]):\n",
    "        if(vi + vj == 2020):\n",
    "            print(vi, vj, vi * vj)"
   ]
  },
  {
   "cell_type": "code",
   "execution_count": 3,
   "metadata": {},
   "outputs": [
    {
     "name": "stdout",
     "output_type": "stream",
     "text": [
      "105 912 1003 96047280\n"
     ]
    }
   ],
   "source": [
    "for i,vi in enumerate(data):\n",
    "    for j,vj in enumerate(data[i+1:]):\n",
    "        for k,vk in enumerate(data[j+1:]):\n",
    "            if(vi + vj + vk == 2020):\n",
    "                print(vi, vj, vk, vi * vj * vk)"
   ]
  }
 ],
 "metadata": {
  "kernelspec": {
   "display_name": "Python 3",
   "language": "python",
   "name": "python3"
  },
  "language_info": {
   "codemirror_mode": {
    "name": "ipython",
    "version": 3
   },
   "file_extension": ".py",
   "mimetype": "text/x-python",
   "name": "python",
   "nbconvert_exporter": "python",
   "pygments_lexer": "ipython3",
   "version": "3.8.3"
  }
 },
 "nbformat": 4,
 "nbformat_minor": 4
}
